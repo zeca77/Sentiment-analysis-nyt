{
 "cells": [
  {
   "metadata": {},
   "cell_type": "markdown",
   "source": [
    "# Sentiment Analysis of New York Times Articles (2022)\n",
    "\n",
    "This notebook performs sentiment analysis on New York Times article titles from 2022, analyzing sentiment trends throughout the year.\n",
    "\n",
    "## Table of Contents\n",
    "1. Data Collection\n",
    "2. Data Storage\n",
    "3. Sentiment Analysis\n",
    "4. Visualization\n",
    "5. Semantic Analysis"
   ],
   "id": "bf9b2f1c874424b2"
  },
  {
   "metadata": {},
   "cell_type": "markdown",
   "source": "# Imports\n",
   "id": "ac439bdcdf0b9b8f"
  },
  {
   "metadata": {
    "ExecuteTime": {
     "end_time": "2025-05-19T11:13:28.278664Z",
     "start_time": "2025-05-19T11:13:22.327851Z"
    }
   },
   "cell_type": "code",
   "source": [
    "import os\n",
    "\n",
    "from helper_functions import *\n",
    "from database_functions import *\n",
    "from sentiment_analysis_helpers import *\n",
    "from sentiment_analysis_visualisation import *\n"
   ],
   "id": "e604d50b8d60f074",
   "outputs": [
    {
     "name": "stderr",
     "output_type": "stream",
     "text": [
      "C:\\Users\\zecab\\Repositories\\Sentiment_Analysis_NYT\\.venv\\Lib\\site-packages\\tqdm\\auto.py:21: TqdmWarning: IProgress not found. Please update jupyter and ipywidgets. See https://ipywidgets.readthedocs.io/en/stable/user_install.html\n",
      "  from .autonotebook import tqdm as notebook_tqdm\n"
     ]
    }
   ],
   "execution_count": 1
  },
  {
   "metadata": {},
   "cell_type": "markdown",
   "source": "## Load environment variables",
   "id": "9211abdc480b96e8"
  },
  {
   "metadata": {
    "ExecuteTime": {
     "end_time": "2025-05-19T11:13:28.308047Z",
     "start_time": "2025-05-19T11:13:28.295402Z"
    }
   },
   "cell_type": "code",
   "source": [
    "# NYT API configuration\n",
    "from dotenv import load_dotenv\n",
    "\n",
    "load_dotenv()\n",
    "API_KEY = os.getenv(\"API_KEY\")\n",
    "\n",
    "BASE_URL = \"https://api.nytimes.com/svc/search/v2/articlesearch.json\""
   ],
   "id": "fd7961398018013b",
   "outputs": [],
   "execution_count": 2
  },
  {
   "metadata": {
    "ExecuteTime": {
     "end_time": "2025-05-19T11:08:47.346934Z",
     "start_time": "2025-05-19T11:08:40.062200Z"
    }
   },
   "cell_type": "code",
   "source": [
    "\n",
    "# Fetch articles for January 2022\n",
    "fetch_articles(year=2022, month=1, pages=1, api_key=API_KEY)"
   ],
   "id": "58cd90f180b8a914",
   "outputs": [
    {
     "name": "stdout",
     "output_type": "stream",
     "text": [
      "sleeping.....\n"
     ]
    },
    {
     "data": {
      "text/plain": [
       "['The Hard-Line Russian Advisers Who Have Putin’s Ear',\n",
       " 'Obscure but Crucial Commodity Fuels Geopolitical Tussle in Eastern Europe',\n",
       " 'Britain Toughens Stance on Russia, as Russia Presses NATO for Assurances',\n",
       " 'England extends vaccines to vulnerable children ages 5 to 11.',\n",
       " 'Covid-era controls may outlast the virus in China.',\n",
       " 'U.S. Allies Retake Control of Prison in Syria, Subduing ISIS Fighters',\n",
       " 'Living by the Code: In China, Covid-Era Controls May Outlast the Virus',\n",
       " 'North Korea’s Latest Missile Test Appears to Be Its Boldest in Years',\n",
       " 'New York coronavirus cases fell by 50 percent in the past week.',\n",
       " 'For those with underlying conditions, an Omicron infection can be anything but mild.']"
      ]
     },
     "execution_count": 3,
     "metadata": {},
     "output_type": "execute_result"
    }
   ],
   "execution_count": 3
  },
  {
   "metadata": {
    "ExecuteTime": {
     "end_time": "2025-05-19T11:13:28.482262Z",
     "start_time": "2025-05-19T11:13:28.473142Z"
    }
   },
   "cell_type": "code",
   "source": "create_table()",
   "id": "e93c50078c7d4439",
   "outputs": [
    {
     "name": "stdout",
     "output_type": "stream",
     "text": [
      "Creating table articles_titles...\n"
     ]
    }
   ],
   "execution_count": 3
  },
  {
   "metadata": {
    "ExecuteTime": {
     "end_time": "2025-05-19T11:14:55.105395Z",
     "start_time": "2025-05-19T11:13:31.765189Z"
    }
   },
   "cell_type": "code",
   "source": "insert_articles_for_year_in_db(2022, API_KEY)\n",
   "id": "93fcb1d3275e45e4",
   "outputs": [
    {
     "name": "stdout",
     "output_type": "stream",
     "text": [
      "Inserting articles for year 2022...\n",
      "sleeping.....\n",
      "Month 1 done.\n",
      "sleeping.....\n",
      "Month 2 done.\n",
      "sleeping.....\n",
      "Month 3 done.\n",
      "sleeping.....\n",
      "Month 4 done.\n",
      "sleeping.....\n",
      "Month 5 done.\n",
      "sleeping.....\n",
      "Month 6 done.\n",
      "sleeping.....\n",
      "Month 7 done.\n",
      "sleeping.....\n",
      "Month 8 done.\n",
      "sleeping.....\n",
      "Month 9 done.\n",
      "Request failed with status code: 429\n",
      "sleeping.....\n",
      "Month 10 done.\n",
      "Request failed with status code: 429\n",
      "sleeping.....\n",
      "Month 11 done.\n",
      "Request failed with status code: 429\n",
      "sleeping.....\n",
      "Month 12 done.\n",
      "Done.\n"
     ]
    }
   ],
   "execution_count": 4
  },
  {
   "metadata": {
    "ExecuteTime": {
     "end_time": "2025-05-19T11:15:18.477174Z",
     "start_time": "2025-05-19T11:15:18.460132Z"
    }
   },
   "cell_type": "code",
   "source": "df = load_articles_from_db(db_path='nyt_articles.db')",
   "id": "11ec39ade0238319",
   "outputs": [],
   "execution_count": 6
  },
  {
   "metadata": {
    "ExecuteTime": {
     "end_time": "2025-05-19T11:15:22.392929Z",
     "start_time": "2025-05-19T11:15:21.640471Z"
    }
   },
   "cell_type": "code",
   "source": [
    "# Initialize sentiment analyzer\n",
    "sentiment_analyzer = initialize_sentiment_analyzer()"
   ],
   "id": "583120213f41dd07",
   "outputs": [
    {
     "name": "stderr",
     "output_type": "stream",
     "text": [
      "Device set to use cpu\n"
     ]
    }
   ],
   "execution_count": 7
  },
  {
   "metadata": {
    "ExecuteTime": {
     "end_time": "2025-05-19T11:15:57.342134Z",
     "start_time": "2025-05-19T11:15:57.326897Z"
    }
   },
   "cell_type": "code",
   "source": "df",
   "id": "8615518e06b8c4f6",
   "outputs": [
    {
     "data": {
      "text/plain": [
       "    id                                              title  year  month\n",
       "0    1  The Hard-Line Russian Advisers Who Have Putin’...  2022      1\n",
       "1    2  Obscure but Crucial Commodity Fuels Geopolitic...  2022      1\n",
       "2    3  Britain Toughens Stance on Russia, as Russia P...  2022      1\n",
       "3    4  England extends vaccines to vulnerable childre...  2022      1\n",
       "4    5  Covid-era controls may outlast the virus in Ch...  2022      1\n",
       "..  ..                                                ...   ...    ...\n",
       "85  86  Vatican Disciplined Nobel Laureate Bishop Over...  2022      9\n",
       "86  87  Putin concedes that some men were wrongly draf...  2022      9\n",
       "87  88  Russia Beat and Denied Food to Prisoners of Wa...  2022      9\n",
       "88  89  A sergeant who died fighting in eastern Donets...  2022      9\n",
       "89  90  Zelensky’s Answer to Escalating Russian Threat...  2022      9\n",
       "\n",
       "[90 rows x 4 columns]"
      ],
      "text/html": [
       "<div>\n",
       "<style scoped>\n",
       "    .dataframe tbody tr th:only-of-type {\n",
       "        vertical-align: middle;\n",
       "    }\n",
       "\n",
       "    .dataframe tbody tr th {\n",
       "        vertical-align: top;\n",
       "    }\n",
       "\n",
       "    .dataframe thead th {\n",
       "        text-align: right;\n",
       "    }\n",
       "</style>\n",
       "<table border=\"1\" class=\"dataframe\">\n",
       "  <thead>\n",
       "    <tr style=\"text-align: right;\">\n",
       "      <th></th>\n",
       "      <th>id</th>\n",
       "      <th>title</th>\n",
       "      <th>year</th>\n",
       "      <th>month</th>\n",
       "    </tr>\n",
       "  </thead>\n",
       "  <tbody>\n",
       "    <tr>\n",
       "      <th>0</th>\n",
       "      <td>1</td>\n",
       "      <td>The Hard-Line Russian Advisers Who Have Putin’...</td>\n",
       "      <td>2022</td>\n",
       "      <td>1</td>\n",
       "    </tr>\n",
       "    <tr>\n",
       "      <th>1</th>\n",
       "      <td>2</td>\n",
       "      <td>Obscure but Crucial Commodity Fuels Geopolitic...</td>\n",
       "      <td>2022</td>\n",
       "      <td>1</td>\n",
       "    </tr>\n",
       "    <tr>\n",
       "      <th>2</th>\n",
       "      <td>3</td>\n",
       "      <td>Britain Toughens Stance on Russia, as Russia P...</td>\n",
       "      <td>2022</td>\n",
       "      <td>1</td>\n",
       "    </tr>\n",
       "    <tr>\n",
       "      <th>3</th>\n",
       "      <td>4</td>\n",
       "      <td>England extends vaccines to vulnerable childre...</td>\n",
       "      <td>2022</td>\n",
       "      <td>1</td>\n",
       "    </tr>\n",
       "    <tr>\n",
       "      <th>4</th>\n",
       "      <td>5</td>\n",
       "      <td>Covid-era controls may outlast the virus in Ch...</td>\n",
       "      <td>2022</td>\n",
       "      <td>1</td>\n",
       "    </tr>\n",
       "    <tr>\n",
       "      <th>...</th>\n",
       "      <td>...</td>\n",
       "      <td>...</td>\n",
       "      <td>...</td>\n",
       "      <td>...</td>\n",
       "    </tr>\n",
       "    <tr>\n",
       "      <th>85</th>\n",
       "      <td>86</td>\n",
       "      <td>Vatican Disciplined Nobel Laureate Bishop Over...</td>\n",
       "      <td>2022</td>\n",
       "      <td>9</td>\n",
       "    </tr>\n",
       "    <tr>\n",
       "      <th>86</th>\n",
       "      <td>87</td>\n",
       "      <td>Putin concedes that some men were wrongly draf...</td>\n",
       "      <td>2022</td>\n",
       "      <td>9</td>\n",
       "    </tr>\n",
       "    <tr>\n",
       "      <th>87</th>\n",
       "      <td>88</td>\n",
       "      <td>Russia Beat and Denied Food to Prisoners of Wa...</td>\n",
       "      <td>2022</td>\n",
       "      <td>9</td>\n",
       "    </tr>\n",
       "    <tr>\n",
       "      <th>88</th>\n",
       "      <td>89</td>\n",
       "      <td>A sergeant who died fighting in eastern Donets...</td>\n",
       "      <td>2022</td>\n",
       "      <td>9</td>\n",
       "    </tr>\n",
       "    <tr>\n",
       "      <th>89</th>\n",
       "      <td>90</td>\n",
       "      <td>Zelensky’s Answer to Escalating Russian Threat...</td>\n",
       "      <td>2022</td>\n",
       "      <td>9</td>\n",
       "    </tr>\n",
       "  </tbody>\n",
       "</table>\n",
       "<p>90 rows × 4 columns</p>\n",
       "</div>"
      ]
     },
     "execution_count": 9,
     "metadata": {},
     "output_type": "execute_result"
    }
   ],
   "execution_count": 9
  },
  {
   "metadata": {
    "ExecuteTime": {
     "end_time": "2025-05-19T11:17:58.796830Z",
     "start_time": "2025-05-19T11:17:56.999402Z"
    }
   },
   "cell_type": "code",
   "source": "df['sentiment_score'] = df['title'].apply(lambda text: get_sentiment_score(sentiment_analyzer, text))",
   "id": "49363ab8e0cc7349",
   "outputs": [],
   "execution_count": 11
  },
  {
   "metadata": {
    "ExecuteTime": {
     "end_time": "2025-05-19T11:18:04.416566Z",
     "start_time": "2025-05-19T11:18:04.404585Z"
    }
   },
   "cell_type": "code",
   "source": [
    "# Calculate monthly averages\n",
    "monthly_sentiment = df.groupby('month')['sentiment_score'].mean().reset_index()"
   ],
   "id": "fba7f759c574328a",
   "outputs": [],
   "execution_count": 12
  },
  {
   "metadata": {
    "ExecuteTime": {
     "end_time": "2025-05-19T11:18:05.763055Z",
     "start_time": "2025-05-19T11:18:05.757063Z"
    }
   },
   "cell_type": "code",
   "source": "monthly_sentiment",
   "id": "e68c3ff5858b47da",
   "outputs": [
    {
     "data": {
      "text/plain": [
       "   month  sentiment_score\n",
       "0      1              0.5\n",
       "1      2              0.5\n",
       "2      3              0.0\n",
       "3      4              0.2\n",
       "4      5              0.4\n",
       "5      6              0.2\n",
       "6      7              0.1\n",
       "7      8              0.4\n",
       "8      9              0.5"
      ],
      "text/html": [
       "<div>\n",
       "<style scoped>\n",
       "    .dataframe tbody tr th:only-of-type {\n",
       "        vertical-align: middle;\n",
       "    }\n",
       "\n",
       "    .dataframe tbody tr th {\n",
       "        vertical-align: top;\n",
       "    }\n",
       "\n",
       "    .dataframe thead th {\n",
       "        text-align: right;\n",
       "    }\n",
       "</style>\n",
       "<table border=\"1\" class=\"dataframe\">\n",
       "  <thead>\n",
       "    <tr style=\"text-align: right;\">\n",
       "      <th></th>\n",
       "      <th>month</th>\n",
       "      <th>sentiment_score</th>\n",
       "    </tr>\n",
       "  </thead>\n",
       "  <tbody>\n",
       "    <tr>\n",
       "      <th>0</th>\n",
       "      <td>1</td>\n",
       "      <td>0.5</td>\n",
       "    </tr>\n",
       "    <tr>\n",
       "      <th>1</th>\n",
       "      <td>2</td>\n",
       "      <td>0.5</td>\n",
       "    </tr>\n",
       "    <tr>\n",
       "      <th>2</th>\n",
       "      <td>3</td>\n",
       "      <td>0.0</td>\n",
       "    </tr>\n",
       "    <tr>\n",
       "      <th>3</th>\n",
       "      <td>4</td>\n",
       "      <td>0.2</td>\n",
       "    </tr>\n",
       "    <tr>\n",
       "      <th>4</th>\n",
       "      <td>5</td>\n",
       "      <td>0.4</td>\n",
       "    </tr>\n",
       "    <tr>\n",
       "      <th>5</th>\n",
       "      <td>6</td>\n",
       "      <td>0.2</td>\n",
       "    </tr>\n",
       "    <tr>\n",
       "      <th>6</th>\n",
       "      <td>7</td>\n",
       "      <td>0.1</td>\n",
       "    </tr>\n",
       "    <tr>\n",
       "      <th>7</th>\n",
       "      <td>8</td>\n",
       "      <td>0.4</td>\n",
       "    </tr>\n",
       "    <tr>\n",
       "      <th>8</th>\n",
       "      <td>9</td>\n",
       "      <td>0.5</td>\n",
       "    </tr>\n",
       "  </tbody>\n",
       "</table>\n",
       "</div>"
      ]
     },
     "execution_count": 13,
     "metadata": {},
     "output_type": "execute_result"
    }
   ],
   "execution_count": 13
  },
  {
   "metadata": {
    "ExecuteTime": {
     "end_time": "2025-05-19T11:18:10.744585Z",
     "start_time": "2025-05-19T11:18:10.508554Z"
    }
   },
   "cell_type": "code",
   "source": "plot_monthly_sentiment(monthly_sentiment)",
   "id": "fb386fa3141ee0e1",
   "outputs": [
    {
     "data": {
      "text/plain": [
       "<Figure size 1200x600 with 1 Axes>"
      ],
      "image/png": "[encoded data removed]"
     },
     "metadata": {},
     "output_type": "display_data"
    }
   ],
   "execution_count": 14
  },
  {
   "metadata": {
    "ExecuteTime": {
     "end_time": "2025-05-19T11:18:24.087179Z",
     "start_time": "2025-05-19T11:18:23.983796Z"
    }
   },
   "cell_type": "code",
   "source": "plot_sentiment_distribution(df)",
   "id": "fdbdd8e09dc8a18c",
   "outputs": [
    {
     "data": {
      "text/plain": [
       "<Figure size 1000x600 with 1 Axes>"
      ],
      "image/png": "[encoded data removed]"
     },
     "metadata": {},
     "output_type": "display_data"
    }
   ],
   "execution_count": 15
  },
  {
   "metadata": {},
   "cell_type": "markdown",
   "source": [
    "## Conclusion\n",
    "\n",
    "This analysis reveals patterns in sentiment across NYT articles throughout 2022. The visualizations show:\n",
    "1. Monthly trends in article sentiment\n",
    "2. Overall distribution of positive vs negative articles\n",
    "3. Semantic relationships between article titles\n",
    "\n",
    "Note: To use this notebook, replace the `API_KEY` variable with your actual NYT API key."
   ],
   "id": "49e3cbe5535b2936"
  }
 ],
 "metadata": {
  "kernelspec": {
   "display_name": "Python 3",
   "language": "python",
   "name": "python3"
  },
  "language_info": {
   "codemirror_mode": {
    "name": "ipython",
    "version": 2
   },
   "file_extension": ".py",
   "mimetype": "text/x-python",
   "name": "python",
   "nbconvert_exporter": "python",
   "pygments_lexer": "ipython2",
   "version": "2.7.6"
  }
 },
 "nbformat": 4,
 "nbformat_minor": 5
}
