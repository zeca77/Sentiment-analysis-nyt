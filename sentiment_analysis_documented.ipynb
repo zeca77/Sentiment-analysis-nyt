{
 "cells": [
  {
   "metadata": {},
   "cell_type": "markdown",
   "source": [
    "# Sentiment Analysis of New York Times Articles (2022)\n",
    "\n",
    "This notebook performs sentiment analysis on New York Times article titles from 2022, analyzing sentiment trends throughout the year.\n",
    "\n",
    "## Table of Contents\n",
    "1. Data Collection\n",
    "2. Data Storage\n",
    "3. Sentiment Analysis\n",
    "4. Visualization\n",
    "5. Semantic Analysis"
   ],
   "id": "bf9b2f1c874424b2"
  },
  {
   "metadata": {
    "ExecuteTime": {
     "end_time": "2025-05-13T11:49:02.187506Z",
     "start_time": "2025-05-13T11:48:56.699691Z"
    }
   },
   "cell_type": "code",
   "source": [
    "import requests\n",
    "import pandas as pd\n",
    "import sqlite3\n",
    "from datetime import datetime\n",
    "import time\n",
    "import os\n",
    "\n",
    "from transformers import pipeline\n",
    "from sentence_transformers import SentenceTransformer\n",
    "import seaborn as sns\n",
    "import matplotlib.pyplot as plt"
   ],
   "id": "e604d50b8d60f074",
   "outputs": [
    {
     "name": "stderr",
     "output_type": "stream",
     "text": [
      "C:\\Users\\zecab\\Repositories\\Sentiment_Analysis_NYT\\.venv\\Lib\\site-packages\\tqdm\\auto.py:21: TqdmWarning: IProgress not found. Please update jupyter and ipywidgets. See https://ipywidgets.readthedocs.io/en/stable/user_install.html\n",
      "  from .autonotebook import tqdm as notebook_tqdm\n"
     ]
    }
   ],
   "execution_count": 1
  },
  {
   "metadata": {
    "ExecuteTime": {
     "end_time": "2025-05-13T11:49:06.347276Z",
     "start_time": "2025-05-13T11:49:06.336123Z"
    }
   },
   "cell_type": "code",
   "source": [
    "# NYT API configuration\n",
    "from dotenv import load_dotenv\n",
    "\n",
    "load_dotenv()\n",
    "API_KEY = os.getenv(\"API_KEY\")\n",
    "\n",
    "BASE_URL = \"https://api.nytimes.com/svc/search/v2/articlesearch.json\""
   ],
   "id": "fd7961398018013b",
   "outputs": [],
   "execution_count": 2
  },
  {
   "metadata": {
    "ExecuteTime": {
     "end_time": "2025-05-13T11:49:08.596381Z",
     "start_time": "2025-05-13T11:49:08.590201Z"
    }
   },
   "cell_type": "code",
   "source": [
    "def get_last_day(year, month):\n",
    "    if month in [4, 6, 9, 11]:\n",
    "        return 30\n",
    "    elif month == 2:\n",
    "        # Check for leap year\n",
    "        if year % 4 == 0 and (year % 100 != 0 or year % 400 == 0):\n",
    "            return 29\n",
    "        return 28\n",
    "    return 31\n",
    "\n",
    "\n",
    "def get_db_connection():\n",
    "    return sqlite3.connect('nyt_articles.db', timeout=10)\n",
    "\n",
    "\n",
    "def fetch_articles(year, month, pages=3):\n",
    "    articles = []\n",
    "    begin_date = f\"{year}{month:02d}01\"\n",
    "    last_day = get_last_day(year, month)\n",
    "    end_date = f\"{year}{month:02d}{last_day}\"\n",
    "\n",
    "    for page in range(0, pages):  # Fetch articles (n pages * 10 articles)\n",
    "        try:\n",
    "            params = {\n",
    "                \"api-key\": API_KEY,\n",
    "                \"begin_date\": begin_date,\n",
    "                \"end_date\": end_date,\n",
    "                \"fq\": 'section.name:(\"U.S.\" \"World\")',\n",
    "                \"page\": page\n",
    "            }\n",
    "\n",
    "            response = requests.get(BASE_URL, params=params, timeout=10)\n",
    "            if response.status_code == 200:\n",
    "                data = response.json()\n",
    "                if \"response\" in data and \"docs\" in data[\"response\"]:\n",
    "                    articles.extend([doc[\"headline\"][\"main\"] for doc in data[\"response\"][\"docs\"]])\n",
    "            else:\n",
    "                print(f\"Request failed with status code: {response.status_code}\")\n",
    "\n",
    "        except requests.exceptions.RequestException as e:\n",
    "            print(f\"Request error occurred: {e}\")\n",
    "            time.sleep(30)  # Wait longer on error\n",
    "            continue\n",
    "\n",
    "        time.sleep(6)  # Rate limiting\n",
    "        print('sleeping.....')\n",
    "    return articles\n"
   ],
   "id": "58cd90f180b8a914",
   "outputs": [],
   "execution_count": 3
  },
  {
   "metadata": {
    "ExecuteTime": {
     "end_time": "2025-05-13T11:49:11.133262Z",
     "start_time": "2025-05-13T11:49:11.124091Z"
    }
   },
   "cell_type": "code",
   "source": [
    "# Create SQLite database\n",
    "with get_db_connection() as conn:\n",
    "    cursor = conn.cursor()\n",
    "    cursor.execute('''\n",
    "        CREATE TABLE IF NOT EXISTS article_titles (\n",
    "            id INTEGER PRIMARY KEY AUTOINCREMENT,\n",
    "            title TEXT,\n",
    "            year INTEGER,\n",
    "            month INTEGER\n",
    "        )\n",
    "    ''')\n",
    "    conn.commit()"
   ],
   "id": "e93c50078c7d4439",
   "outputs": [],
   "execution_count": 4
  },
  {
   "metadata": {
    "jupyter": {
     "is_executing": true
    },
    "ExecuteTime": {
     "start_time": "2025-05-13T11:49:13.087164Z"
    }
   },
   "cell_type": "code",
   "source": [
    "# Collect articles for each month of 2022\n",
    "\n",
    "year = 2022\n",
    "with get_db_connection() as conn:\n",
    "    cursor = conn.cursor()\n",
    "    for month in range(1, 13):\n",
    "        articles = fetch_articles(year, month)\n",
    "        for title in articles:\n",
    "            cursor.execute(\n",
    "                \"INSERT INTO article_titles (title, year, month) VALUES (?, ?, ?)\",\n",
    "                (title, year, month)\n",
    "            )\n",
    "        print(f'month {month} done.')\n",
    "\n",
    "        conn.commit()"
   ],
   "id": "93fcb1d3275e45e4",
   "outputs": [
    {
     "name": "stdout",
     "output_type": "stream",
     "text": [
      "sleeping.....\n",
      "sleeping.....\n",
      "sleeping.....\n",
      "month 1 done.\n",
      "sleeping.....\n",
      "sleeping.....\n",
      "Request failed with status code: 429\n",
      "sleeping.....\n",
      "month 2 done.\n",
      "Request failed with status code: 429\n"
     ]
    }
   ],
   "execution_count": null
  },
  {
   "metadata": {
    "ExecuteTime": {
     "end_time": "2025-05-13T11:00:29.993369Z",
     "start_time": "2025-05-13T11:00:29.988289Z"
    }
   },
   "cell_type": "code",
   "source": [
    "# Load articles from database\n",
    "df = pd.read_sql_query(\n",
    "    \"SELECT * FROM article_titles\",\n",
    "    conn\n",
    ")"
   ],
   "id": "11ec39ade0238319",
   "outputs": [],
   "execution_count": 14
  },
  {
   "metadata": {},
   "cell_type": "code",
   "outputs": [],
   "execution_count": null,
   "source": [
    "# Initialize sentiment analyzer\n",
    "sentiment_analyzer = pipeline(\"sentiment-analysis\", model=\"distilbert-base-uncased-finetuned-sst-2-english\")"
   ],
   "id": "583120213f41dd07"
  },
  {
   "metadata": {},
   "cell_type": "code",
   "outputs": [],
   "execution_count": null,
   "source": [
    "# Perform sentiment analysis\n",
    "def get_sentiment_score(text):\n",
    "    result = sentiment_analyzer(text)\n",
    "    return 1 if result[0]['label'] == 'POSITIVE' else 0\n",
    "\n",
    "df['sentiment_score'] = df['title'].apply(get_sentiment_score)"
   ],
   "id": "49363ab8e0cc7349"
  },
  {
   "metadata": {},
   "cell_type": "code",
   "outputs": [],
   "execution_count": null,
   "source": [
    "# Calculate monthly averages\n",
    "monthly_sentiment = df.groupby('month')['sentiment_score'].mean().reset_index()"
   ],
   "id": "fba7f759c574328a"
  },
  {
   "metadata": {},
   "cell_type": "code",
   "outputs": [],
   "execution_count": null,
   "source": [
    "# Visualization 1: Monthly sentiment trends\n",
    "plt.figure(figsize=(12, 6))\n",
    "sns.barplot(data=monthly_sentiment, x='month', y='sentiment_score')\n",
    "plt.title('Monthly Sentiment Trends in NYT Articles (2022)')\n",
    "plt.xlabel('Month')\n",
    "plt.ylabel('Average Sentiment Score')\n",
    "plt.show()"
   ],
   "id": "fb386fa3141ee0e1"
  },
  {
   "metadata": {},
   "cell_type": "code",
   "outputs": [],
   "execution_count": null,
   "source": [
    "# Visualization 2: Sentiment distribution\n",
    "plt.figure(figsize=(10, 6))\n",
    "sns.histplot(data=df, x='sentiment_score', bins=2)\n",
    "plt.title('Distribution of Article Sentiments')\n",
    "plt.xlabel('Sentiment Score')\n",
    "plt.ylabel('Count')\n",
    "plt.show()"
   ],
   "id": "fdbdd8e09dc8a18c"
  },
  {
   "metadata": {},
   "cell_type": "code",
   "outputs": [],
   "execution_count": null,
   "source": [
    "# Initialize sentence transformer\n",
    "model = SentenceTransformer('all-MiniLM-L6-v2')"
   ],
   "id": "68db3ee1d09247f6"
  },
  {
   "metadata": {},
   "cell_type": "code",
   "outputs": [],
   "execution_count": null,
   "source": [
    "# Generate embeddings for a sample of articles\n",
    "sample_size = 100\n",
    "sample_titles = df['title'].sample(n=sample_size, random_state=42)\n",
    "embeddings = model.encode(sample_titles)"
   ],
   "id": "a8f86e2fc6b11ecc"
  },
  {
   "metadata": {},
   "cell_type": "code",
   "outputs": [],
   "execution_count": null,
   "source": [
    "# Calculate similarity matrix\n",
    "import numpy as np\n",
    "similarity_matrix = np.inner(embeddings, embeddings)\n",
    "\n",
    "# Plot similarity heatmap\n",
    "plt.figure(figsize=(12, 12))\n",
    "sns.heatmap(similarity_matrix, cmap='viridis')\n",
    "plt.title('Semantic Similarity Between Article Titles')\n",
    "plt.show()"
   ],
   "id": "6faca883dc6758d1"
  },
  {
   "metadata": {},
   "cell_type": "code",
   "outputs": [],
   "execution_count": null,
   "source": [
    "# Close database connection\n",
    "conn.close()"
   ],
   "id": "855ae2c7950eccea"
  },
  {
   "metadata": {},
   "cell_type": "markdown",
   "source": [
    "## Conclusion\n",
    "\n",
    "This analysis reveals patterns in sentiment across NYT articles throughout 2022. The visualizations show:\n",
    "1. Monthly trends in article sentiment\n",
    "2. Overall distribution of positive vs negative articles\n",
    "3. Semantic relationships between article titles\n",
    "\n",
    "Note: To use this notebook, replace the `API_KEY` variable with your actual NYT API key."
   ],
   "id": "49e3cbe5535b2936"
  }
 ],
 "metadata": {
  "kernelspec": {
   "display_name": "Python 3",
   "language": "python",
   "name": "python3"
  },
  "language_info": {
   "codemirror_mode": {
    "name": "ipython",
    "version": 2
   },
   "file_extension": ".py",
   "mimetype": "text/x-python",
   "name": "python",
   "nbconvert_exporter": "python",
   "pygments_lexer": "ipython2",
   "version": "2.7.6"
  }
 },
 "nbformat": 4,
 "nbformat_minor": 5
}
